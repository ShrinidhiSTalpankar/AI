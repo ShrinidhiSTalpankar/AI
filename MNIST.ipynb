{
 "cells": [
  {
   "cell_type": "code",
   "execution_count": 9,
   "metadata": {
    "collapsed": false
   },
   "outputs": [],
   "source": [
    "import numpy\n",
    "from keras import optimizers\n",
    "from keras.datasets import mnist\n",
    "from keras.models import Sequential\n",
    "from keras.layers import Dense\n",
    "from keras.layers import Dropout\n",
    "from keras.utils import np_utils\n",
    "import matplotlib.pyplot as plt\n",
    "from keras.models import load_model\n",
    "# fix random seed for reproducibility\n",
    "seed = 7\n",
    "numpy.random.seed(seed)\n",
    "import tensorflow as tf\n",
    "tf.set_random_seed(seed)"
   ]
  },
  {
   "cell_type": "code",
   "execution_count": 10,
   "metadata": {
    "collapsed": true
   },
   "outputs": [],
   "source": [
    "(X_train, y_train), (X_test, y_test) = mnist.load_data()"
   ]
  },
  {
   "cell_type": "code",
   "execution_count": 11,
   "metadata": {
    "collapsed": true
   },
   "outputs": [],
   "source": [
    "num_pixels = X_train.shape[1] * X_train.shape[2]\n",
    "X_train = X_train.reshape(X_train.shape[0], num_pixels).astype('float32')\n",
    "X_test = X_test.reshape(X_test.shape[0], num_pixels).astype('float32')"
   ]
  },
  {
   "cell_type": "code",
   "execution_count": 12,
   "metadata": {
    "collapsed": true
   },
   "outputs": [],
   "source": [
    "X_train = X_train / 255\n",
    "X_test = X_test / 255"
   ]
  },
  {
   "cell_type": "code",
   "execution_count": 13,
   "metadata": {
    "collapsed": true
   },
   "outputs": [],
   "source": [
    "y_train = np_utils.to_categorical(y_train)\n",
    "y_test = np_utils.to_categorical(y_test)\n",
    "num_classes = y_test.shape[1]"
   ]
  },
  {
   "cell_type": "code",
   "execution_count": 14,
   "metadata": {
    "collapsed": true
   },
   "outputs": [],
   "source": [
    "def baseline_model():\n",
    "    model = Sequential()\n",
    "    model.add(Dense(num_pixels, input_dim=num_pixels, kernel_initializer='normal', activation='relu'))\n",
    "    model.add(Dense(num_classes, kernel_initializer='normal', activation='softmax'))\n",
    "    # Compile model\n",
    "    model.compile(optimizer='adam',loss='categorical_crossentropy',metrics=['accuracy'])\n",
    "    print model.summary()\n",
    "    return model"
   ]
  },
  {
   "cell_type": "code",
   "execution_count": 15,
   "metadata": {
    "collapsed": false
   },
   "outputs": [
    {
     "name": "stdout",
     "output_type": "stream",
     "text": [
      "_________________________________________________________________\n",
      "Layer (type)                 Output Shape              Param #   \n",
      "=================================================================\n",
      "dense_1 (Dense)              (None, 784)               615440    \n",
      "_________________________________________________________________\n",
      "dense_2 (Dense)              (None, 10)                7850      \n",
      "=================================================================\n",
      "Total params: 623,290\n",
      "Trainable params: 623,290\n",
      "Non-trainable params: 0\n",
      "_________________________________________________________________\n",
      "None\n",
      "Train on 48000 samples, validate on 12000 samples\n",
      "Epoch 1/30\n",
      "12s - loss: 0.3112 - acc: 0.9116 - val_loss: 0.1548 - val_acc: 0.9572\n",
      "Epoch 2/30\n",
      "11s - loss: 0.1240 - acc: 0.9648 - val_loss: 0.1190 - val_acc: 0.9650\n",
      "Epoch 3/30\n",
      "11s - loss: 0.0825 - acc: 0.9763 - val_loss: 0.1059 - val_acc: 0.9669\n",
      "Epoch 4/30\n",
      "11s - loss: 0.0564 - acc: 0.9835 - val_loss: 0.0834 - val_acc: 0.9756\n",
      "Epoch 5/30\n",
      "11s - loss: 0.0400 - acc: 0.9891 - val_loss: 0.0758 - val_acc: 0.9769\n",
      "Epoch 6/30\n",
      "14s - loss: 0.0294 - acc: 0.9925 - val_loss: 0.0729 - val_acc: 0.9774\n",
      "Epoch 7/30\n",
      "15s - loss: 0.0222 - acc: 0.9945 - val_loss: 0.0743 - val_acc: 0.9775\n",
      "Epoch 8/30\n",
      "12s - loss: 0.0164 - acc: 0.9966 - val_loss: 0.0804 - val_acc: 0.9758\n",
      "Epoch 9/30\n",
      "12s - loss: 0.0132 - acc: 0.9971 - val_loss: 0.0697 - val_acc: 0.9805\n",
      "Epoch 10/30\n",
      "11s - loss: 0.0087 - acc: 0.9986 - val_loss: 0.0704 - val_acc: 0.9797\n",
      "Epoch 11/30\n",
      "12s - loss: 0.0062 - acc: 0.9993 - val_loss: 0.0706 - val_acc: 0.9802\n",
      "Epoch 12/30\n",
      "12s - loss: 0.0045 - acc: 0.9996 - val_loss: 0.0710 - val_acc: 0.9808\n",
      "Epoch 13/30\n",
      "12s - loss: 0.0039 - acc: 0.9995 - val_loss: 0.0768 - val_acc: 0.9795\n",
      "Epoch 14/30\n",
      "11s - loss: 0.0034 - acc: 0.9997 - val_loss: 0.0702 - val_acc: 0.9812\n",
      "Epoch 15/30\n",
      "11s - loss: 0.0019 - acc: 1.0000 - val_loss: 0.0725 - val_acc: 0.9812\n",
      "Epoch 16/30\n",
      "11s - loss: 0.0020 - acc: 0.9998 - val_loss: 0.0821 - val_acc: 0.9789\n",
      "Epoch 17/30\n",
      "11s - loss: 0.0038 - acc: 0.9991 - val_loss: 0.1217 - val_acc: 0.9695\n",
      "Epoch 18/30\n",
      "11s - loss: 0.0177 - acc: 0.9941 - val_loss: 0.0901 - val_acc: 0.9779\n",
      "Epoch 19/30\n",
      "11s - loss: 0.0080 - acc: 0.9979 - val_loss: 0.0812 - val_acc: 0.9805\n",
      "Epoch 20/30\n",
      "11s - loss: 0.0023 - acc: 0.9997 - val_loss: 0.0737 - val_acc: 0.9822\n",
      "Epoch 21/30\n",
      "11s - loss: 7.3014e-04 - acc: 1.0000 - val_loss: 0.0720 - val_acc: 0.9833\n",
      "Epoch 22/30\n",
      "12s - loss: 4.6098e-04 - acc: 1.0000 - val_loss: 0.0732 - val_acc: 0.9822\n",
      "Epoch 23/30\n",
      "13s - loss: 3.7307e-04 - acc: 1.0000 - val_loss: 0.0736 - val_acc: 0.9825\n",
      "Epoch 24/30\n",
      "11s - loss: 3.1811e-04 - acc: 1.0000 - val_loss: 0.0750 - val_acc: 0.9823\n",
      "Epoch 25/30\n",
      "11s - loss: 2.7918e-04 - acc: 1.0000 - val_loss: 0.0752 - val_acc: 0.9825\n",
      "Epoch 26/30\n",
      "12s - loss: 2.4902e-04 - acc: 1.0000 - val_loss: 0.0754 - val_acc: 0.9823\n",
      "Epoch 27/30\n",
      "12s - loss: 2.2131e-04 - acc: 1.0000 - val_loss: 0.0762 - val_acc: 0.9829\n",
      "Epoch 28/30\n",
      "11s - loss: 2.0007e-04 - acc: 1.0000 - val_loss: 0.0765 - val_acc: 0.9829\n",
      "Epoch 29/30\n",
      "11s - loss: 1.8011e-04 - acc: 1.0000 - val_loss: 0.0770 - val_acc: 0.9829\n",
      "Epoch 30/30\n",
      "12s - loss: 1.6433e-04 - acc: 1.0000 - val_loss: 0.0777 - val_acc: 0.9828\n"
     ]
    },
    {
     "data": {
      "image/png": "[encoded data removed]",
      "text/plain": [
       "<matplotlib.figure.Figure at 0x7f1af05c41d0>"
      ]
     },
     "metadata": {},
     "output_type": "display_data"
    },
    {
     "data": {
      "image/png": "[encoded data removed]",
      "text/plain": [
       "<matplotlib.figure.Figure at 0x7f1aad213350>"
      ]
     },
     "metadata": {},
     "output_type": "display_data"
    }
   ],
   "source": [
    "model = baseline_model()\n",
    "# Fit the model\n",
    "history=model.fit(X_train, y_train, validation_split=0.20, epochs=30, batch_size=200, verbose=2)\n",
    "# summarize history for accuracy\n",
    "plt.plot(history.history['acc'])\n",
    "plt.plot(history.history['val_acc'])\n",
    "plt.title('model accuracy')\n",
    "plt.ylabel('accuracy')\n",
    "plt.xlabel('epoch')\n",
    "plt.legend(['train', 'test'], loc='upper left')\n",
    "plt.show()\n",
    "# summarize history for loss\n",
    "plt.plot(history.history['loss'])\n",
    "plt.plot(history.history['val_loss'])\n",
    "plt.title('model loss')\n",
    "plt.ylabel('loss')\n",
    "plt.xlabel('epoch')\n",
    "plt.legend(['train', 'test'], loc='upper left')\n",
    "plt.show()"
   ]
  },
  {
   "cell_type": "code",
   "execution_count": 7,
   "metadata": {
    "collapsed": true
   },
   "outputs": [],
   "source": [
    "model=load_model('model_adam_30.h5')"
   ]
  },
  {
   "cell_type": "code",
   "execution_count": 8,
   "metadata": {
    "collapsed": false
   },
   "outputs": [
    {
     "name": "stdout",
     "output_type": "stream",
     "text": [
      "Accuracy: 98.35%\n"
     ]
    }
   ],
   "source": [
    "loss,accuracy = model.evaluate(X_test, y_test, verbose=0)\n",
    "print(\"Accuracy: %.2f%%\" % (accuracy*100))"
   ]
  },
  {
   "cell_type": "code",
   "execution_count": null,
   "metadata": {
    "collapsed": true
   },
   "outputs": [],
   "source": []
  }
 ],
 "metadata": {
  "kernelspec": {
   "display_name": "Python 2",
   "language": "python",
   "name": "python2"
  },
  "language_info": {
   "codemirror_mode": {
    "name": "ipython",
    "version": 2
   },
   "file_extension": ".py",
   "mimetype": "text/x-python",
   "name": "python",
   "nbconvert_exporter": "python",
   "pygments_lexer": "ipython2",
   "version": "2.7.14"
  }
 },
 "nbformat": 4,
 "nbformat_minor": 2
}
